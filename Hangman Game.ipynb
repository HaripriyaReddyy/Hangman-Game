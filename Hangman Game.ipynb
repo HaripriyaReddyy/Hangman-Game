{
 "cells": [
  {
   "cell_type": "code",
   "execution_count": 6,
   "id": "0e8cb64c",
   "metadata": {},
   "outputs": [
    {
     "name": "stdout",
     "output_type": "stream",
     "text": [
      "Welcome to Hangman Game\n",
      "You only get 6 turns to get the word right.\n",
      "Guess a letter: a\n",
      "_ _ _ _ _ _ _\n",
      "Guess a letter: i\n",
      "_ _ _ _ _ _ _\n",
      "Guess a letter: o\n",
      "_ _ _ _ o o _\n",
      "Guess a letter: l\n",
      "_ _ _ _ o o _\n",
      "Guess a letter: s\n",
      "_ _ _ _ o o _\n",
      "Guess a letter: g\n",
      "_ _ _ _ o o _\n",
      "Guess a letter: h\n",
      "You lose. The correct word is buffoon\n",
      "_ _ _ _ o o _\n"
     ]
    }
   ],
   "source": [
    "import random\n",
    "print(\"Welcome to Hangman Game\\nYou only get 7 turns to get the word right or you lose!\")\n",
    "word_list=['abruptly', 'absurd', 'abyss', 'affix', 'askew', 'avenue', 'awkward', 'axiom', 'azure', 'bagpipes', 'bandwagon', 'banjo', 'bayou', 'beekeeper', 'bikini', 'blitz', 'blizzard', 'boggle', 'bookworm', 'boxcar', 'boxful', 'buckaroo', 'buffalo', 'buffoon', 'buxom', 'buzzard', 'buzzing', 'buzzwords', 'caliph', 'cobweb',  'zilch', 'zipper', 'zodiac', 'zombie',]\n",
    "chosen_word = random.choice(word_list)\n",
    "#selecting a random word from the word_list\n",
    "word_length = len(chosen_word)\n",
    "end_of_game = False\n",
    "#end_of_game marks the end_of_game\n",
    "lives = 6\n",
    "#you will get 7 wrong guesses before end_of_game=True\n",
    "display = []\n",
    "for _ in range(word_length):\n",
    "    display += \"_\"\n",
    "#displays the word length in \"_\"\n",
    "while not end_of_game:\n",
    "    guess = input(\"Guess a letter: \").lower()\n",
    "#The input you type is stored in the guess variable\n",
    "\n",
    "    for position in range(word_length):\n",
    "        letter = chosen_word[position]\n",
    "#This for loop checks if the input matches with any of the letters of the randomly choice_word\n",
    "        if letter == guess:\n",
    "            display[position] = letter\n",
    "#If the letter matches with any of the letters in the choice_word, the \"_\" is reaplaced with the letter\n",
    "    if guess not in chosen_word:\n",
    "        lives -= 1\n",
    "#If the letter does not match, our live is deducted by 1\n",
    "        if lives == 0:\n",
    "            end_of_game = True\n",
    "            print(f\"You lose. The correct word is {chosen_word}\")\n",
    "#If your live = 0, and have not guessed the word, you automatically lose.\n",
    "    \n",
    "    print(f\"{' '.join(display)}\")\n",
    "\n",
    "    if \"_\" not in display:\n",
    "        end_of_game = True\n",
    "        print(f\"You win. You guessed {chosen_word} correctly.\")\n",
    "#If all the \"_\" are replaced with letters and you have guessed the word correctly, congrats you won the game!\n",
    "\n",
    "    "
   ]
  },
  {
   "cell_type": "code",
   "execution_count": null,
   "id": "a56186f1",
   "metadata": {},
   "outputs": [],
   "source": []
  }
 ],
 "metadata": {
  "kernelspec": {
   "display_name": "Python 3 (ipykernel)",
   "language": "python",
   "name": "python3"
  },
  "language_info": {
   "codemirror_mode": {
    "name": "ipython",
    "version": 3
   },
   "file_extension": ".py",
   "mimetype": "text/x-python",
   "name": "python",
   "nbconvert_exporter": "python",
   "pygments_lexer": "ipython3",
   "version": "3.9.12"
  }
 },
 "nbformat": 4,
 "nbformat_minor": 5
}
